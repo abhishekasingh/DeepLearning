{
 "cells": [
  {
   "cell_type": "code",
   "execution_count": 1,
   "metadata": {},
   "outputs": [],
   "source": [
    "# Importing the libraries\n",
    "import numpy as np\n",
    "import matplotlib.pyplot as plt\n",
    "import pandas as pd"
   ]
  },
  {
   "cell_type": "code",
   "execution_count": 2,
   "metadata": {},
   "outputs": [],
   "source": [
    "# Importing the dataset\n",
    "dataset = pd.read_csv('Churn_Modelling.csv')\n",
    "X = dataset.iloc[:, 3:13].values\n",
    "y = dataset.iloc[:, 13].values"
   ]
  },
  {
   "cell_type": "code",
   "execution_count": 3,
   "metadata": {},
   "outputs": [
    {
     "data": {
      "text/plain": [
       "array([608, 'Spain', 'Female', 41, 1, 83807.86, 1, 0, 1, 112542.58],\n",
       "      dtype=object)"
      ]
     },
     "execution_count": 3,
     "metadata": {},
     "output_type": "execute_result"
    }
   ],
   "source": [
    "X[1]"
   ]
  },
  {
   "cell_type": "code",
   "execution_count": 4,
   "metadata": {},
   "outputs": [],
   "source": [
    "# Encoding categorical data\n",
    "from sklearn.preprocessing import LabelEncoder, OneHotEncoder\n",
    "from sklearn.compose import ColumnTransformer"
   ]
  },
  {
   "cell_type": "code",
   "execution_count": 5,
   "metadata": {},
   "outputs": [],
   "source": [
    "ct = ColumnTransformer([(\"Country\", OneHotEncoder(), [1])], remainder = 'passthrough')\n",
    "X = ct.fit_transform(X)"
   ]
  },
  {
   "cell_type": "code",
   "execution_count": 6,
   "metadata": {},
   "outputs": [
    {
     "data": {
      "text/plain": [
       "array([0.0, 0.0, 1.0, 608, 'Female', 41, 1, 83807.86, 1, 0, 1, 112542.58],\n",
       "      dtype=object)"
      ]
     },
     "execution_count": 6,
     "metadata": {},
     "output_type": "execute_result"
    }
   ],
   "source": [
    "X[1]"
   ]
  },
  {
   "cell_type": "code",
   "execution_count": 7,
   "metadata": {},
   "outputs": [
    {
     "data": {
      "text/plain": [
       "array(['Female', 'Female', 'Female', ..., 'Female', 'Male', 'Female'],\n",
       "      dtype=object)"
      ]
     },
     "execution_count": 7,
     "metadata": {},
     "output_type": "execute_result"
    }
   ],
   "source": [
    "X[:, 4]"
   ]
  },
  {
   "cell_type": "code",
   "execution_count": 8,
   "metadata": {},
   "outputs": [],
   "source": [
    "labelencoder_X = LabelEncoder()\n",
    "X[:, 4] = labelencoder_X.fit_transform(X[:, 4])"
   ]
  },
  {
   "cell_type": "code",
   "execution_count": 9,
   "metadata": {},
   "outputs": [],
   "source": [
    "X = X[:, 1:]"
   ]
  },
  {
   "cell_type": "code",
   "execution_count": 10,
   "metadata": {},
   "outputs": [
    {
     "data": {
      "text/plain": [
       "(10000, 11)"
      ]
     },
     "execution_count": 10,
     "metadata": {},
     "output_type": "execute_result"
    }
   ],
   "source": [
    "X.shape"
   ]
  },
  {
   "cell_type": "code",
   "execution_count": 11,
   "metadata": {},
   "outputs": [],
   "source": [
    "# Splitting the dataset into the Training set and Test set\n",
    "from sklearn.model_selection import train_test_split\n",
    "X_train, X_test, y_train, y_test = train_test_split(X, y, test_size = 0.3, random_state = 0)"
   ]
  },
  {
   "cell_type": "code",
   "execution_count": 12,
   "metadata": {},
   "outputs": [
    {
     "data": {
      "text/plain": [
       "array([0.0, 0.0, 541, 1, 39, 7, 0.0, 2, 1, 0, 19823.02], dtype=object)"
      ]
     },
     "execution_count": 12,
     "metadata": {},
     "output_type": "execute_result"
    }
   ],
   "source": [
    "X_train[1]"
   ]
  },
  {
   "cell_type": "code",
   "execution_count": 13,
   "metadata": {},
   "outputs": [],
   "source": [
    "# Feature Scaling\n",
    "from sklearn.preprocessing import StandardScaler\n",
    "sc = StandardScaler()\n",
    "X_train = sc.fit_transform(X_train)\n",
    "X_test = sc.transform(X_test)"
   ]
  },
  {
   "cell_type": "code",
   "execution_count": 14,
   "metadata": {},
   "outputs": [
    {
     "name": "stderr",
     "output_type": "stream",
     "text": [
      "Using TensorFlow backend.\n"
     ]
    }
   ],
   "source": [
    "# Importing the Keras libraries and packages\n",
    "import keras\n",
    "from keras.models import Sequential\n",
    "from keras.layers import Dense"
   ]
  },
  {
   "cell_type": "code",
   "execution_count": 15,
   "metadata": {},
   "outputs": [],
   "source": [
    "# Initialising the ANN\n",
    "classifier = Sequential()"
   ]
  },
  {
   "cell_type": "code",
   "execution_count": 16,
   "metadata": {},
   "outputs": [],
   "source": [
    "# Adding the input layer and the first hidden layer\n",
    "classifier.add(Dense(units = 6, kernel_initializer = 'uniform', activation = 'relu', input_dim = 11))"
   ]
  },
  {
   "cell_type": "code",
   "execution_count": 17,
   "metadata": {},
   "outputs": [],
   "source": [
    "# Adding the second hidden layer\n",
    "classifier.add(Dense(units = 6, kernel_initializer = 'uniform', activation = 'relu'))"
   ]
  },
  {
   "cell_type": "code",
   "execution_count": 18,
   "metadata": {},
   "outputs": [],
   "source": [
    "# Adding the output layer\n",
    "classifier.add(Dense(units = 1, kernel_initializer = 'uniform', activation = 'sigmoid'))"
   ]
  },
  {
   "cell_type": "code",
   "execution_count": 19,
   "metadata": {},
   "outputs": [],
   "source": [
    "# Compiling the ANN\n",
    "classifier.compile(optimizer = 'adam', loss = 'binary_crossentropy', metrics = ['accuracy'])"
   ]
  },
  {
   "cell_type": "code",
   "execution_count": 20,
   "metadata": {},
   "outputs": [
    {
     "name": "stdout",
     "output_type": "stream",
     "text": [
      "Epoch 1/100\n",
      "7000/7000 [==============================] - 1s 152us/step - loss: 0.4878 - accuracy: 0.7969\n",
      "Epoch 2/100\n",
      "7000/7000 [==============================] - 1s 109us/step - loss: 0.4179 - accuracy: 0.7977\n",
      "Epoch 3/100\n",
      "7000/7000 [==============================] - 1s 108us/step - loss: 0.4077 - accuracy: 0.7977\n",
      "Epoch 4/100\n",
      "7000/7000 [==============================] - 1s 110us/step - loss: 0.3991 - accuracy: 0.8224\n",
      "Epoch 5/100\n",
      "7000/7000 [==============================] - 1s 109us/step - loss: 0.3913 - accuracy: 0.8313\n",
      "Epoch 6/100\n",
      "7000/7000 [==============================] - 1s 108us/step - loss: 0.3845 - accuracy: 0.8326\n",
      "Epoch 7/100\n",
      "7000/7000 [==============================] - 1s 110us/step - loss: 0.3800 - accuracy: 0.8361\n",
      "Epoch 8/100\n",
      "7000/7000 [==============================] - 1s 110us/step - loss: 0.3759 - accuracy: 0.8421\n",
      "Epoch 9/100\n",
      "7000/7000 [==============================] - 1s 119us/step - loss: 0.3721 - accuracy: 0.8476\n",
      "Epoch 10/100\n",
      "7000/7000 [==============================] - 1s 135us/step - loss: 0.3692 - accuracy: 0.8471\n",
      "Epoch 11/100\n",
      "7000/7000 [==============================] - 1s 116us/step - loss: 0.3668 - accuracy: 0.8514\n",
      "Epoch 12/100\n",
      "7000/7000 [==============================] - 1s 110us/step - loss: 0.3658 - accuracy: 0.8513\n",
      "Epoch 13/100\n",
      "7000/7000 [==============================] - 1s 115us/step - loss: 0.3627 - accuracy: 0.8521\n",
      "Epoch 14/100\n",
      "7000/7000 [==============================] - 1s 114us/step - loss: 0.3632 - accuracy: 0.8509\n",
      "Epoch 15/100\n",
      "7000/7000 [==============================] - 1s 113us/step - loss: 0.3613 - accuracy: 0.8520\n",
      "Epoch 16/100\n",
      "7000/7000 [==============================] - 1s 108us/step - loss: 0.3604 - accuracy: 0.8523\n",
      "Epoch 17/100\n",
      "7000/7000 [==============================] - 1s 108us/step - loss: 0.3596 - accuracy: 0.8536\n",
      "Epoch 18/100\n",
      "7000/7000 [==============================] - 1s 109us/step - loss: 0.3587 - accuracy: 0.8547\n",
      "Epoch 19/100\n",
      "7000/7000 [==============================] - 1s 123us/step - loss: 0.3575 - accuracy: 0.8580\n",
      "Epoch 20/100\n",
      "7000/7000 [==============================] - 1s 140us/step - loss: 0.3576 - accuracy: 0.8563\n",
      "Epoch 21/100\n",
      "7000/7000 [==============================] - 1s 138us/step - loss: 0.3567 - accuracy: 0.8539\n",
      "Epoch 22/100\n",
      "7000/7000 [==============================] - 1s 116us/step - loss: 0.3562 - accuracy: 0.8541\n",
      "Epoch 23/100\n",
      "7000/7000 [==============================] - 1s 112us/step - loss: 0.3561 - accuracy: 0.8546\n",
      "Epoch 24/100\n",
      "7000/7000 [==============================] - 1s 115us/step - loss: 0.3557 - accuracy: 0.8561\n",
      "Epoch 25/100\n",
      "7000/7000 [==============================] - 1s 113us/step - loss: 0.3549 - accuracy: 0.8556\n",
      "Epoch 26/100\n",
      "7000/7000 [==============================] - 1s 115us/step - loss: 0.3543 - accuracy: 0.8547\n",
      "Epoch 27/100\n",
      "7000/7000 [==============================] - 2s 316us/step - loss: 0.3538 - accuracy: 0.8560\n",
      "Epoch 28/100\n",
      "7000/7000 [==============================] - 2s 323us/step - loss: 0.3537 - accuracy: 0.8576\n",
      "Epoch 29/100\n",
      "7000/7000 [==============================] - 1s 133us/step - loss: 0.3535 - accuracy: 0.8559\n",
      "Epoch 30/100\n",
      "7000/7000 [==============================] - 1s 130us/step - loss: 0.3527 - accuracy: 0.8570\n",
      "Epoch 31/100\n",
      "7000/7000 [==============================] - 1s 130us/step - loss: 0.3537 - accuracy: 0.8573\n",
      "Epoch 32/100\n",
      "7000/7000 [==============================] - 1s 131us/step - loss: 0.3531 - accuracy: 0.8573\n",
      "Epoch 33/100\n",
      "7000/7000 [==============================] - 1s 134us/step - loss: 0.3526 - accuracy: 0.8581\n",
      "Epoch 34/100\n",
      "7000/7000 [==============================] - 1s 158us/step - loss: 0.3519 - accuracy: 0.8581\n",
      "Epoch 35/100\n",
      "7000/7000 [==============================] - 1s 139us/step - loss: 0.3522 - accuracy: 0.8590\n",
      "Epoch 36/100\n",
      "7000/7000 [==============================] - 1s 123us/step - loss: 0.3515 - accuracy: 0.8564\n",
      "Epoch 37/100\n",
      "7000/7000 [==============================] - 1s 128us/step - loss: 0.3517 - accuracy: 0.8590\n",
      "Epoch 38/100\n",
      "7000/7000 [==============================] - 1s 124us/step - loss: 0.3511 - accuracy: 0.8579\n",
      "Epoch 39/100\n",
      "7000/7000 [==============================] - 1s 122us/step - loss: 0.3502 - accuracy: 0.8580\n",
      "Epoch 40/100\n",
      "7000/7000 [==============================] - 1s 122us/step - loss: 0.3507 - accuracy: 0.8597\n",
      "Epoch 41/100\n",
      "7000/7000 [==============================] - 1s 122us/step - loss: 0.3509 - accuracy: 0.8604\n",
      "Epoch 42/100\n",
      "7000/7000 [==============================] - 1s 116us/step - loss: 0.3492 - accuracy: 0.8597\n",
      "Epoch 43/100\n",
      "7000/7000 [==============================] - 1s 117us/step - loss: 0.3505 - accuracy: 0.8589\n",
      "Epoch 44/100\n",
      "7000/7000 [==============================] - 1s 124us/step - loss: 0.3488 - accuracy: 0.8597\n",
      "Epoch 45/100\n",
      "7000/7000 [==============================] - 1s 114us/step - loss: 0.3506 - accuracy: 0.8573\n",
      "Epoch 46/100\n",
      "7000/7000 [==============================] - 1s 114us/step - loss: 0.3495 - accuracy: 0.8583\n",
      "Epoch 47/100\n",
      "7000/7000 [==============================] - 1s 116us/step - loss: 0.3489 - accuracy: 0.8609\n",
      "Epoch 48/100\n",
      "7000/7000 [==============================] - 1s 111us/step - loss: 0.3494 - accuracy: 0.8567\n",
      "Epoch 49/100\n",
      "7000/7000 [==============================] - 1s 113us/step - loss: 0.3500 - accuracy: 0.8586\n",
      "Epoch 50/100\n",
      "7000/7000 [==============================] - 1s 111us/step - loss: 0.3483 - accuracy: 0.8589\n",
      "Epoch 51/100\n",
      "7000/7000 [==============================] - 1s 115us/step - loss: 0.3487 - accuracy: 0.8591\n",
      "Epoch 52/100\n",
      "7000/7000 [==============================] - 1s 112us/step - loss: 0.3500 - accuracy: 0.8574\n",
      "Epoch 53/100\n",
      "7000/7000 [==============================] - 1s 126us/step - loss: 0.3487 - accuracy: 0.8606\n",
      "Epoch 54/100\n",
      "7000/7000 [==============================] - 1s 116us/step - loss: 0.3490 - accuracy: 0.8569\n",
      "Epoch 55/100\n",
      "7000/7000 [==============================] - 1s 118us/step - loss: 0.3483 - accuracy: 0.8630\n",
      "Epoch 56/100\n",
      "7000/7000 [==============================] - 1s 114us/step - loss: 0.3484 - accuracy: 0.8596\n",
      "Epoch 57/100\n",
      "7000/7000 [==============================] - 1s 114us/step - loss: 0.3481 - accuracy: 0.8606\n",
      "Epoch 58/100\n",
      "7000/7000 [==============================] - 1s 109us/step - loss: 0.3481 - accuracy: 0.8600\n",
      "Epoch 59/100\n",
      "7000/7000 [==============================] - 1s 109us/step - loss: 0.3482 - accuracy: 0.8600\n",
      "Epoch 60/100\n",
      "7000/7000 [==============================] - 1s 108us/step - loss: 0.3488 - accuracy: 0.8607\n",
      "Epoch 61/100\n",
      "7000/7000 [==============================] - 1s 110us/step - loss: 0.3482 - accuracy: 0.8573\n",
      "Epoch 62/100\n",
      "7000/7000 [==============================] - 1s 109us/step - loss: 0.3475 - accuracy: 0.8611\n",
      "Epoch 63/100\n",
      "7000/7000 [==============================] - 1s 107us/step - loss: 0.3474 - accuracy: 0.8591\n",
      "Epoch 64/100\n",
      "7000/7000 [==============================] - 1s 109us/step - loss: 0.3479 - accuracy: 0.8610\n",
      "Epoch 65/100\n",
      "7000/7000 [==============================] - 1s 108us/step - loss: 0.3465 - accuracy: 0.8599\n",
      "Epoch 66/100\n",
      "7000/7000 [==============================] - 1s 110us/step - loss: 0.3465 - accuracy: 0.8606\n",
      "Epoch 67/100\n",
      "7000/7000 [==============================] - 1s 106us/step - loss: 0.3469 - accuracy: 0.8600\n",
      "Epoch 68/100\n",
      "7000/7000 [==============================] - 1s 108us/step - loss: 0.3471 - accuracy: 0.8594\n",
      "Epoch 69/100\n",
      "7000/7000 [==============================] - 1s 108us/step - loss: 0.3459 - accuracy: 0.8601\n",
      "Epoch 70/100\n",
      "7000/7000 [==============================] - 1s 108us/step - loss: 0.3464 - accuracy: 0.8613\n",
      "Epoch 71/100\n",
      "7000/7000 [==============================] - 1s 109us/step - loss: 0.3467 - accuracy: 0.8597\n",
      "Epoch 72/100\n",
      "7000/7000 [==============================] - 1s 112us/step - loss: 0.3467 - accuracy: 0.8596\n",
      "Epoch 73/100\n",
      "7000/7000 [==============================] - 1s 113us/step - loss: 0.3463 - accuracy: 0.8599\n",
      "Epoch 74/100\n",
      "7000/7000 [==============================] - 1s 151us/step - loss: 0.3463 - accuracy: 0.8591\n",
      "Epoch 75/100\n",
      "7000/7000 [==============================] - 1s 126us/step - loss: 0.3471 - accuracy: 0.8591\n",
      "Epoch 76/100\n",
      "7000/7000 [==============================] - 1s 124us/step - loss: 0.3466 - accuracy: 0.8581\n",
      "Epoch 77/100\n",
      "7000/7000 [==============================] - 1s 123us/step - loss: 0.3456 - accuracy: 0.8616\n",
      "Epoch 78/100\n"
     ]
    },
    {
     "name": "stdout",
     "output_type": "stream",
     "text": [
      "7000/7000 [==============================] - 1s 121us/step - loss: 0.3464 - accuracy: 0.8586\n",
      "Epoch 79/100\n",
      "7000/7000 [==============================] - 1s 121us/step - loss: 0.3460 - accuracy: 0.8594\n",
      "Epoch 80/100\n",
      "7000/7000 [==============================] - 1s 119us/step - loss: 0.3459 - accuracy: 0.8604\n",
      "Epoch 81/100\n",
      "7000/7000 [==============================] - 1s 117us/step - loss: 0.3452 - accuracy: 0.8606\n",
      "Epoch 82/100\n",
      "7000/7000 [==============================] - 1s 117us/step - loss: 0.3455 - accuracy: 0.8574\n",
      "Epoch 83/100\n",
      "7000/7000 [==============================] - 1s 125us/step - loss: 0.3464 - accuracy: 0.8594\n",
      "Epoch 84/100\n",
      "7000/7000 [==============================] - 1s 119us/step - loss: 0.3459 - accuracy: 0.8594\n",
      "Epoch 85/100\n",
      "7000/7000 [==============================] - 1s 117us/step - loss: 0.3456 - accuracy: 0.8584\n",
      "Epoch 86/100\n",
      "7000/7000 [==============================] - 1s 117us/step - loss: 0.3456 - accuracy: 0.8603\n",
      "Epoch 87/100\n",
      "7000/7000 [==============================] - 1s 117us/step - loss: 0.3467 - accuracy: 0.8570\n",
      "Epoch 88/100\n",
      "7000/7000 [==============================] - 1s 117us/step - loss: 0.3457 - accuracy: 0.8580\n",
      "Epoch 89/100\n",
      "7000/7000 [==============================] - 1s 115us/step - loss: 0.3456 - accuracy: 0.8583\n",
      "Epoch 90/100\n",
      "7000/7000 [==============================] - 1s 116us/step - loss: 0.3451 - accuracy: 0.8593\n",
      "Epoch 91/100\n",
      "7000/7000 [==============================] - 1s 116us/step - loss: 0.3455 - accuracy: 0.8609\n",
      "Epoch 92/100\n",
      "7000/7000 [==============================] - 1s 122us/step - loss: 0.3456 - accuracy: 0.8600\n",
      "Epoch 93/100\n",
      "7000/7000 [==============================] - 1s 144us/step - loss: 0.3447 - accuracy: 0.8610\n",
      "Epoch 94/100\n",
      "7000/7000 [==============================] - 1s 119us/step - loss: 0.3457 - accuracy: 0.8594\n",
      "Epoch 95/100\n",
      "7000/7000 [==============================] - 1s 118us/step - loss: 0.3459 - accuracy: 0.8603\n",
      "Epoch 96/100\n",
      "7000/7000 [==============================] - 1s 118us/step - loss: 0.3456 - accuracy: 0.8619\n",
      "Epoch 97/100\n",
      "7000/7000 [==============================] - 1s 117us/step - loss: 0.3446 - accuracy: 0.8614\n",
      "Epoch 98/100\n",
      "7000/7000 [==============================] - 1s 118us/step - loss: 0.3449 - accuracy: 0.8594\n",
      "Epoch 99/100\n",
      "7000/7000 [==============================] - 1s 117us/step - loss: 0.3451 - accuracy: 0.8613\n",
      "Epoch 100/100\n",
      "7000/7000 [==============================] - 1s 117us/step - loss: 0.3448 - accuracy: 0.8589\n"
     ]
    },
    {
     "data": {
      "text/plain": [
       "<keras.callbacks.callbacks.History at 0x296661c2b08>"
      ]
     },
     "execution_count": 20,
     "metadata": {},
     "output_type": "execute_result"
    }
   ],
   "source": [
    "# Fitting the ANN to the Training set\n",
    "classifier.fit(X_train, y_train, batch_size = 10, epochs = 100)"
   ]
  },
  {
   "cell_type": "code",
   "execution_count": 21,
   "metadata": {},
   "outputs": [],
   "source": [
    "# Part 3 - Making predictions and evaluating the model\n",
    "\n",
    "# Predicting the Test set results\n",
    "y_pred = classifier.predict(X_test)\n",
    "y_pred = (y_pred > 0.5)"
   ]
  },
  {
   "cell_type": "code",
   "execution_count": 22,
   "metadata": {},
   "outputs": [],
   "source": [
    "# Making the Confusion Matrix\n",
    "from sklearn.metrics import confusion_matrix,accuracy_score,classification_report\n",
    "cm = confusion_matrix(y_test, y_pred)"
   ]
  },
  {
   "cell_type": "code",
   "execution_count": 23,
   "metadata": {},
   "outputs": [
    {
     "data": {
      "text/plain": [
       "array([[2225,  154],\n",
       "       [ 276,  345]], dtype=int64)"
      ]
     },
     "execution_count": 23,
     "metadata": {},
     "output_type": "execute_result"
    }
   ],
   "source": [
    "cm"
   ]
  },
  {
   "cell_type": "code",
   "execution_count": 24,
   "metadata": {},
   "outputs": [
    {
     "name": "stdout",
     "output_type": "stream",
     "text": [
      "              precision    recall  f1-score   support\n",
      "\n",
      "           0       0.89      0.94      0.91      2379\n",
      "           1       0.69      0.56      0.62       621\n",
      "\n",
      "    accuracy                           0.86      3000\n",
      "   macro avg       0.79      0.75      0.76      3000\n",
      "weighted avg       0.85      0.86      0.85      3000\n",
      "\n"
     ]
    }
   ],
   "source": [
    "cls_report = classification_report(y_test, y_pred)\n",
    "print(cls_report)"
   ]
  },
  {
   "cell_type": "code",
   "execution_count": 25,
   "metadata": {},
   "outputs": [
    {
     "name": "stdout",
     "output_type": "stream",
     "text": [
      "0.8566666666666667\n"
     ]
    }
   ],
   "source": [
    "acr = accuracy_score(y_test, y_pred)\n",
    "print(acr)"
   ]
  },
  {
   "cell_type": "code",
   "execution_count": 26,
   "metadata": {},
   "outputs": [
    {
     "data": {
      "text/plain": [
       "0.8566666666666667"
      ]
     },
     "execution_count": 26,
     "metadata": {},
     "output_type": "execute_result"
    }
   ],
   "source": [
    "(2225 + 345)/ 3000"
   ]
  }
 ],
 "metadata": {
  "kernelspec": {
   "display_name": "Python 3",
   "language": "python",
   "name": "python3"
  },
  "language_info": {
   "codemirror_mode": {
    "name": "ipython",
    "version": 3
   },
   "file_extension": ".py",
   "mimetype": "text/x-python",
   "name": "python",
   "nbconvert_exporter": "python",
   "pygments_lexer": "ipython3",
   "version": "3.7.6"
  }
 },
 "nbformat": 4,
 "nbformat_minor": 2
}
